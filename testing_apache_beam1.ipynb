{
  "nbformat": 4,
  "nbformat_minor": 0,
  "metadata": {
    "colab": {
      "provenance": [],
      "authorship_tag": "ABX9TyMdJgXyYo39fsNL+7dhNrrE",
      "include_colab_link": true
    },
    "kernelspec": {
      "name": "python3",
      "display_name": "Python 3"
    },
    "language_info": {
      "name": "python"
    }
  },
  "cells": [
    {
      "cell_type": "markdown",
      "metadata": {
        "id": "view-in-github",
        "colab_type": "text"
      },
      "source": [
        "<a href=\"https://colab.research.google.com/github/vamsi-pillala/sample_repo1/blob/main/testing_apache_beam1.ipynb\" target=\"_parent\"><img src=\"https://colab.research.google.com/assets/colab-badge.svg\" alt=\"Open In Colab\"/></a>"
      ]
    },
    {
      "cell_type": "code",
      "source": [
        "import apache_beam  # Import the module\n",
        "\n",
        "# Get all attributes (including methods)\n",
        "all_attributes = dir(apache_beam)\n",
        "\n",
        "# Print all methods starting with lowercase (assuming most methods are functions)\n",
        "for attr in all_attributes:\n",
        "  if not attr.startswith('__') and callable(getattr(apache_beam, attr)):\n",
        "    print(attr)"
      ],
      "metadata": {
        "id": "puVZ8M3vPuJt"
      },
      "execution_count": null,
      "outputs": []
    },
    {
      "cell_type": "code",
      "source": [
        "import apache_beam as beam\n",
        "\n",
        "def print_hello(element):\n",
        "    print(\"Hello, World!\")\n",
        "\n",
        "def run():\n",
        "    # Create a Pipeline object\n",
        "    with beam.Pipeline() as pipeline:\n",
        "        # Create a PCollection with a single element\n",
        "        data = pipeline | 'Create' >> beam.Create([1])\n",
        "\n",
        "        # Apply a ParDo transform to print \"Hello, World!\"\n",
        "         | 'PrintHello' >> beam.ParDo(print_hello)\n",
        "\n",
        "if __name__ == '__main__':\n",
        "    run()\n"
      ],
      "metadata": {
        "colab": {
          "base_uri": "https://localhost:8080/",
          "height": 72
        },
        "id": "qFp6HfPGtd2s",
        "outputId": "4402b83d-2da3-4b21-ffec-ce18b7e7bc1c"
      },
      "execution_count": null,
      "outputs": [
        {
          "output_type": "stream",
          "name": "stderr",
          "text": [
            "WARNING:apache_beam.runners.interactive.interactive_environment:Dependencies required for Interactive Beam PCollection visualization are not available, please use: `pip install apache-beam[interactive]` to install necessary dependencies to enable all data visualization features.\n"
          ]
        },
        {
          "output_type": "display_data",
          "data": {
            "application/javascript": [
              "\n",
              "        if (typeof window.interactive_beam_jquery == 'undefined') {\n",
              "          var jqueryScript = document.createElement('script');\n",
              "          jqueryScript.src = 'https://code.jquery.com/jquery-3.4.1.slim.min.js';\n",
              "          jqueryScript.type = 'text/javascript';\n",
              "          jqueryScript.onload = function() {\n",
              "            var datatableScript = document.createElement('script');\n",
              "            datatableScript.src = 'https://cdn.datatables.net/1.10.20/js/jquery.dataTables.min.js';\n",
              "            datatableScript.type = 'text/javascript';\n",
              "            datatableScript.onload = function() {\n",
              "              window.interactive_beam_jquery = jQuery.noConflict(true);\n",
              "              window.interactive_beam_jquery(document).ready(function($){\n",
              "                \n",
              "              });\n",
              "            }\n",
              "            document.head.appendChild(datatableScript);\n",
              "          };\n",
              "          document.head.appendChild(jqueryScript);\n",
              "        } else {\n",
              "          window.interactive_beam_jquery(document).ready(function($){\n",
              "            \n",
              "          });\n",
              "        }"
            ]
          },
          "metadata": {}
        },
        {
          "output_type": "stream",
          "name": "stdout",
          "text": [
            "Hello, World!\n"
          ]
        }
      ]
    },
    {
      "cell_type": "code",
      "source": [
        "!{'pip install apache_beam[gcp]'}"
      ],
      "metadata": {
        "id": "PREA-roXr9b4"
      },
      "execution_count": null,
      "outputs": []
    },
    {
      "cell_type": "code",
      "source": [
        "with open('sample_data/card_skippers-00000-of-00001') as file:\n",
        "  points_wise_list = []\n",
        "  for line in file:\n",
        "    customer_id,key_name,points = line.split(',')\n",
        "    points = points.rstrip().lstrip()\n",
        "    points,chr1,chr2 = points.split(' ')\n",
        "    temp_tuple = (customer_id+','+key_name,points)\n",
        "    points_wise_list.append(temp_tuple)\n",
        "  sorted_points_wise_list = sorted(points_wise_list,key = lambda x:x[1],reverse = True)\n",
        "\n",
        "  print('Credit Defaulter List')\n",
        "\n",
        "  for record in sorted_points_wise_list:\n",
        "    composite_name,points = record\n",
        "    print(composite_name + ' ' + str(points) + ' ' + 'fraud points')"
      ],
      "metadata": {
        "id": "btNQzVBhr5lv"
      },
      "execution_count": null,
      "outputs": []
    },
    {
      "cell_type": "code",
      "source": [
        "import apache_beam as beam\n",
        "p = beam.Pipeline()\n",
        "\n",
        "def calculate_points(element):\n",
        "  customer_id,first_name,last_name,relationship_id,card_type,max_limit,spent,cash_withdrawn,payment_cleared,payment_date = element.split(',')\n",
        "\n",
        "  spent = int(spent)\n",
        "  payment_cleared = int(payment_cleared)\n",
        "  max_limit = int(max_limit)\n",
        "\n",
        "  key_name = customer_id + ', ' + first_name + ' ' + last_name\n",
        "  defaulter_points = 0\n",
        "\n",
        "  if payment_cleared < 0.7*spent:\n",
        "    defaulter_points += 1\n",
        "  if (payment_cleared == max_limit) and (payment_cleared < spent):\n",
        "    defaulter_points += 1\n",
        "  if (payment_cleared == max_limit) and (payment_cleared < 0.7*spent):\n",
        "    defaulter_points += 1\n",
        "\n",
        "  return key_name,defaulter_points\n",
        "\n",
        "def format_result(sum_pair):\n",
        "  key_name,points = sum_pair\n",
        "  return key_name + ', ' + str(points) + ' fraud points'\n",
        "\n",
        "card_defaulter = (\n",
        "    p\n",
        "    |beam.io.ReadFromText('cards.txt',skip_header_lines=1)\n",
        "    |beam.Map(calculate_points)\n",
        "    |beam.CombinePerKey(sum)\n",
        "    |beam.Filter(lambda element:element[1] > 0)\n",
        "    |beam.Map(format_result)\n",
        "    |beam.io.WriteToText('sample_data/card_skippers')\n",
        ")\n",
        "\n",
        "p.run()"
      ],
      "metadata": {
        "id": "6tELTCZ2rvG6"
      },
      "execution_count": null,
      "outputs": []
    },
    {
      "cell_type": "code",
      "source": [
        "import apache_beam as beam\n",
        "p1 = beam.Pipeline()\n",
        "\n",
        "input_Pcollection = (\n",
        "    p1\n",
        "    |'read from text file' >> beam.io.ReadFromText('pipe_delimited_cards_data_sample.txt',skip_header_lines=True)\n",
        "    |'splitting records as list items' >> beam.Map(lambda record:record.split('|'))\n",
        ")\n",
        "chunk_of_data_based_on_card_type = (\n",
        "    input_Pcollection\n",
        "    |'filtering records based on card type' >> beam.Filter(lambda record:record[4] == 'Issuers')\n",
        "    |'string formatting card-type based records' >> beam.Map(lambda record:record[0] + ', ' + record[1] + ' ' + record[2] + ', ' + record[3] + ', ' + record[4] + ', ' + record[5] + ', ' + record[6] + ', ' + record[7] + ', ' + record[8] + ', ' + record[9])\n",
        "    |'writing results for issuers card-type customers to a file' >> beam.io.WriteToText('sample_data/issuers_card_holders')\n",
        ")\n",
        "\n",
        "chunk_of_data_based_on_year_of_last_date = (\n",
        "    input_Pcollection\n",
        "    |'filtering records based on year on last-date and less than half due amount paid' >> beam.Filter(lambda record:record[9][-4:] == '2019' and int(record[8]) < 0.5*int(record[5]))\n",
        "    |'string formatting year on last-date and less than half due amount paid based records' >> beam.Map(lambda record:record[0] + ', ' + record[1] + ' ' + record[2] + ', ' + record[3] + ', ' + record[4] + ', ' + record[5] + ', ' + record[6] + ', ' + record[7] + ', ' + record[8] + ', ' + record[9])\n",
        "    |'writing results for 2019 year last date and less than half amount paid customers to a file' >> beam.io.WriteToText('sample_data/2019_less_than_half_payers')\n",
        ")\n",
        "p1.run()\n",
        "\n",
        "!{('head -n 100 sample_data/2019_less_than_half_payers-00000-of-00001')}"
      ],
      "metadata": {
        "id": "zQ1JyyPDrm-I"
      },
      "execution_count": null,
      "outputs": []
    },
    {
      "cell_type": "code",
      "source": [
        "from google.colab import files\n",
        "uploaded = files.upload()"
      ],
      "metadata": {
        "id": "10-xXt1FrUjt"
      },
      "execution_count": null,
      "outputs": []
    },
    {
      "cell_type": "code",
      "execution_count": null,
      "metadata": {
        "id": "LQeHw4VjqrCx"
      },
      "outputs": [],
      "source": [
        "!{'pip install apache_beam'}"
      ]
    }
  ]
}